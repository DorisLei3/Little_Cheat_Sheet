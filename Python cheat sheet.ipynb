{
 "cells": [
  {
   "cell_type": "markdown",
   "metadata": {},
   "source": [
    "# Python Cheat Sheet"
   ]
  },
  {
   "cell_type": "markdown",
   "metadata": {},
   "source": [
    "## Manupulating with dataframe"
   ]
  },
  {
   "cell_type": "markdown",
   "metadata": {},
   "source": [
    "#### <span style=\"color:DarkGreen\">Read file and check info</span>\n",
    "file_path = \"C:/Users/yuuud/Desktop/UCD/Winter/452/data/Event_entry.csv\" \\\n",
    "df = pd.read_csv(file_path)\n",
    "print(df.info())\n",
    "#### <span style=\"color:DarkGreen\">Drop Column</span>\n",
    "df.drop(df.columns[[0, 1, 9, 10]], axis=1, inplace=True)\n",
    "\n",
    "#### <span style=\"color:DarkGreen\">Drop Column or add column to another variable</span>\n",
    "X = encoded_data.drop(columns=['Price']) \\\n",
    "y = encoded_data['Price']"
   ]
  },
  {
   "cell_type": "markdown",
   "metadata": {},
   "source": [
    "## Dealing with missing value"
   ]
  },
  {
   "cell_type": "markdown",
   "metadata": {},
   "source": [
    "#### <span style=\"color:BlueViolet\">1. Delete all missing value</span>\n",
    "df.dropna(subset=['column'], inplace=True)\n",
    "\n",
    "#### <span style=\"color:BlueViolet\">2. Replace with mean value</span>\n",
    "df['column'] = df['column'].fillna(df['column'].mean())\n",
    "\n",
    "#### <span style=\"color:BlueViolet\">3. Replace with 0</span>\n",
    "df['column'] = df['column'].fillna(0)\n",
    "\n",
    "#### <span style=\"color:BlueViolet\">4. Check if my dataframe have NA value</span>\n",
    "na_counts = df.isna().sum()"
   ]
  },
  {
   "cell_type": "markdown",
   "metadata": {},
   "source": [
    "## import matplotlib.pyplot as plt\n",
    "## import seaborn as sns"
   ]
  },
  {
   "cell_type": "markdown",
   "metadata": {},
   "source": [
    "### Bar Chart ###"
   ]
  },
  {
   "cell_type": "code",
   "execution_count": null,
   "metadata": {},
   "outputs": [],
   "source": [
    "# 每个人的saving总和\n",
    "# grouped_data = df.groupby('人')['saving'].sum().reset_index()\n",
    "\n",
    "# 如果想要排序并limit数量\n",
    "# top20_data = grouped_data.sort_values('saving', ascending=False).head(20)\n",
    "\n",
    "# top20_data = top20_data.iloc[::-1]\n",
    "\n",
    "# plt.figure(figsize=(7, 5)) \n",
    "# plt.barh(top20_data['人'], top20_data['saving'], color='teal')\n",
    "# plt.title('Top 20 saving by individual')\n",
    "# plt.xlabel('saving')\n",
    "# plt.ylabel('individual')\n",
    "# plt.xticks(rotation=90)    # 想要横着还是竖着\n",
    "# plt.tight_layout()\n",
    "# plt.show()"
   ]
  },
  {
   "cell_type": "markdown",
   "metadata": {},
   "source": [
    "##### 堆积柱状图"
   ]
  },
  {
   "cell_type": "code",
   "execution_count": null,
   "metadata": {},
   "outputs": [],
   "source": [
    "# average_prices = df.groupby(['Regionname', 'Type'])['Price'].mean().sort_values(ascending=False).reset_index()\n",
    "# type_colors = {'h': 'slateblue', 't': 'orange', 'u': 'green'}\n",
    "# cumulative_heights = {region: 0 for region in average_prices['Regionname'].unique()}\n",
    "\n",
    "# plt.figure(figsize=(8, 7))\n",
    "\n",
    "# for _, row in average_prices.iterrows():\n",
    "#     region = row['Regionname']\n",
    "#     type_ = row['Type']\n",
    "#     price = row['Price']\n",
    "#     plt.bar(region, price, bottom=cumulative_heights[region], color=type_colors[type_])\n",
    "#     cumulative_heights[region] += price\n",
    "\n",
    "# plt.title('Average Price by Region and Type')\n",
    "# plt.xlabel('Region')\n",
    "# plt.ylabel('Average Price')\n",
    "# plt.xticks(rotation=45)\n",
    "# plt.tight_layout()\n",
    "# plt.show()\n",
    "\n",
    "\n",
    "# grouped_data = df.groupby(['TicketClass', 'Entry']).size().unstack(fill_value=0)\n",
    "\n",
    "# grouped_data.plot(kind='bar', stacked=True, color=['#6666CC', '#FF9999'], figsize=(4, 5))\n",
    "\n",
    "\n",
    "# plt.title('Stacked Bar Chart of Orders by Ticket Class and Entry')\n",
    "# plt.xlabel('Ticket Class')\n",
    "# plt.ylabel('Number of Orders')\n",
    "# plt.xticks(rotation=0)\n",
    "# plt.legend(title='Entry')\n",
    "# plt.show()"
   ]
  },
  {
   "cell_type": "markdown",
   "metadata": {},
   "source": [
    "##### Side by Side bar chart"
   ]
  },
  {
   "cell_type": "code",
   "execution_count": null,
   "metadata": {},
   "outputs": [],
   "source": [
    "# order_counts = df.groupby(['Entry', 'Sex'])['Order'].count().reset_index()\n",
    "\n",
    "# # Plotting\n",
    "# plt.figure(figsize=(5, 6))\n",
    "# sns.set_style('whitegrid')\n",
    "# barplot = sns.barplot(data=order_counts, x='Entry', y='Order', hue='Sex', palette=['lightseagreen', 'darkblue'])\n",
    "\n",
    "# for bar in barplot.patches:\n",
    "#     bar.set_width(0.3)\n",
    "\n",
    "# plt.title('Order Count by Entry and Sex')\n",
    "# plt.xlabel('Entry')\n",
    "# plt.ylabel('Order Count')\n",
    "# plt.xticks([0, 1], ['denied', 'approved'])\n",
    "# plt.legend(title='Sex')\n",
    "# plt.xticks([-0.3,0.15, 0.75, 1.2], ['F denied', 'M denied', 'F approved', 'M approved'])\n",
    "# plt.show()"
   ]
  },
  {
   "cell_type": "markdown",
   "metadata": {},
   "source": [
    "### Connect with MYSQL Database"
   ]
  },
  {
   "cell_type": "code",
   "execution_count": null,
   "metadata": {},
   "outputs": [],
   "source": [
    "import mysql.connector\n",
    "import warnings\n",
    "\n",
    "warnings.filterwarnings(\"ignore\")\n",
    "\n",
    "SQL_DB = \"db_422_python\"\n",
    "\n",
    "def create_sql_table(TABLE_NAME, TABLE_DEF):\n",
    "    try:\n",
    "        #connect to server\n",
    "        conn = mysql.connector.connect(host='localhost',\n",
    "                                       user='root',\n",
    "                                       password='')\n",
    "        cursor = conn.cursor()\n",
    "        \n",
    "        query = \"CREATE DATABASE IF NOT EXISTS \" + SQL_DB\n",
    "        print(query)\n",
    "        cursor.execute(query);\n",
    "        \n",
    "        query = \"CREATE TABLE IF NOT EXISTS \" + SQL_DB + \".\" + TABLE_NAME + \" \" + TABLE_DEF + \";\";\n",
    "        print(query)\n",
    "        cursor.execute(query);\n",
    "        cursor.close()\n",
    "        conn.close()\n",
    "        return\n",
    "\n",
    "    except IOError as e:\n",
    "        print(e)\n",
    "    \n",
    "conn = mysql.connector.connect(host='localhost',\n",
    "                                user='root',\n",
    "                                password='..')\n",
    "cur = conn.cursor()\n",
    "drop_db = \"DROP DATABASE IF EXISTS`db_422_python`\"\n",
    "cur.execute(drop_db)\n",
    "\n",
    "\n",
    "TABLE_NAME = \"Github_info\"\n",
    "TABLE_DEF = \"(\" + \\\n",
    "            \"login VARCHAR(255)\" + \\\n",
    "            \", id INT NOT NULL PRIMARY KEY\" + \\\n",
    "            \", location VARCHAR(255) NULL\" + \\\n",
    "            \", following INT NULL\" + \\\n",
    "            \", created_at DATETIME NULL\" + \\\n",
    "            \")\"\n",
    "\n",
    "create_sql_table(TABLE_NAME, TABLE_DEF)\n",
    "\n",
    "conn = mysql.connector.connect(host='localhost',\n",
    "                                database='db_422_python',\n",
    "                                user='root',\n",
    "                                password='')\n",
    "\n",
    "cur = conn.cursor()\n",
    "\n",
    "# delete_query = \"DELETE FROM Github_info WHERE id > 0\"\n",
    "# cur.execute(delete_query)\n",
    "#conn.commit()\n",
    "\n",
    "for con in contributors_10:\n",
    "    response = requests.get(con['url'])\n",
    "    user_details = response.json()\n",
    "    contributors_url.append(user_details)\n",
    "\n",
    "    cur.execute('''\n",
    "        INSERT INTO Github_info (\n",
    "            login, id, location, following, created_at\n",
    "        ) VALUES (%s, %s, %s, %s, %s)\n",
    "    ''', (\n",
    "        user_details.get('login'),\n",
    "        user_details.get('id'),\n",
    "        user_details.get('location'),\n",
    "        user_details.get('following'),\n",
    "        datetime.strptime(user_details.get('created_at'), '%Y-%m-%dT%H:%M:%SZ').strftime('%Y-%m-%d %H:%M:%S')\n",
    "    ))\n",
    "\n",
    "conn.commit()\n",
    "\n",
    "cur.close()\n",
    "conn.close()  "
   ]
  }
 ],
 "metadata": {
  "kernelspec": {
   "display_name": "Python 3",
   "language": "python",
   "name": "python3"
  },
  "language_info": {
   "name": "python",
   "version": "3.11.5"
  }
 },
 "nbformat": 4,
 "nbformat_minor": 2
}
