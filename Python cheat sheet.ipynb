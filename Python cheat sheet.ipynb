{
 "cells": [
  {
   "cell_type": "markdown",
   "metadata": {},
   "source": [
    "# Python Cheat Sheet"
   ]
  },
  {
   "cell_type": "markdown",
   "metadata": {},
   "source": [
    "### Manupulating with dataframe"
   ]
  },
  {
   "cell_type": "markdown",
   "metadata": {},
   "source": [
    "#### **<span style=\"color:DarkGreen\">Read file and check info</span>**\n",
    "file_path = \"C:/Users/yuuud/Desktop/UCD/Winter/452/data/Event_entry.csv\"\n",
    "df = pd.read_csv(file_path)\n",
    "print(df.info())\n",
    "#### **<span style=\"color:DarkGreen\">Drop Column</span>**\n",
    "df.drop(df.columns[[0, 1, 9, 10]], axis=1, inplace=True)"
   ]
  },
  {
   "cell_type": "markdown",
   "metadata": {},
   "source": [
    "### Dealing with missing value"
   ]
  },
  {
   "cell_type": "markdown",
   "metadata": {},
   "source": [
    "#### <span style=\"color:BlueViolet\">1. Delete all missing value</span>\n",
    "df.dropna(subset=['column'], inplace=True)\n",
    "\n",
    "#### <span style=\"color:BlueViolet\">2. Replace with mean value</span>\n",
    "df['column'] = df['column'].fillna(df['column'].mean())\n",
    "\n",
    "#### <span style=\"color:BlueViolet\">3. Replace with 0</span>\n",
    "df['column'] = df['column'].fillna(0)\n",
    "\n",
    "#### <span style=\"color:BlueViolet\">4. Check if my dataframe have NA value</span>\n",
    "na_counts = df.isna().sum()"
   ]
  }
 ],
 "metadata": {
  "kernelspec": {
   "display_name": "Python 3",
   "language": "python",
   "name": "python3"
  },
  "language_info": {
   "name": "python",
   "version": "3.11.5"
  }
 },
 "nbformat": 4,
 "nbformat_minor": 2
}
