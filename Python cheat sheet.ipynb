{
 "cells": [
  {
   "cell_type": "markdown",
   "metadata": {},
   "source": [
    "# Python Cheat Sheet"
   ]
  },
  {
   "cell_type": "markdown",
   "metadata": {},
   "source": [
    "## Manupulating with dataframe"
   ]
  },
  {
   "cell_type": "markdown",
   "metadata": {},
   "source": [
    "#### <span style=\"color:DarkGreen\">Read file and check info</span>\n",
    "file_path = \"C:/Users/yuuud/Desktop/UCD/Winter/452/data/Event_entry.csv\" \\\n",
    "df = pd.read_csv(file_path)\n",
    "print(df.info())\n",
    "#### <span style=\"color:DarkGreen\">Drop Column</span>\n",
    "df.drop(df.columns[[0, 1, 9, 10]], axis=1, inplace=True)\n",
    "\n",
    "#### <span style=\"color:DarkGreen\">Drop Column or add column to another variable</span>\n",
    "X = encoded_data.drop(columns=['Price']) \\\n",
    "y = encoded_data['Price']"
   ]
  },
  {
   "cell_type": "markdown",
   "metadata": {},
   "source": [
    "## Dealing with missing value"
   ]
  },
  {
   "cell_type": "markdown",
   "metadata": {},
   "source": [
    "#### <span style=\"color:BlueViolet\">1. Delete all missing value</span>\n",
    "df.dropna(subset=['column'], inplace=True)\n",
    "\n",
    "#### <span style=\"color:BlueViolet\">2. Replace with mean value</span>\n",
    "df['column'] = df['column'].fillna(df['column'].mean())\n",
    "\n",
    "#### <span style=\"color:BlueViolet\">3. Replace with 0</span>\n",
    "df['column'] = df['column'].fillna(0)\n",
    "\n",
    "#### <span style=\"color:BlueViolet\">4. Check if my dataframe have NA value</span>\n",
    "na_counts = df.isna().sum()"
   ]
  },
  {
   "cell_type": "markdown",
   "metadata": {},
   "source": [
    "## import matplotlib.pyplot as plt\n",
    "## import seaborn as sns"
   ]
  },
  {
   "cell_type": "markdown",
   "metadata": {},
   "source": [
    "### Bar Chart ###"
   ]
  },
  {
   "cell_type": "code",
   "execution_count": null,
   "metadata": {},
   "outputs": [],
   "source": [
    "# 每个人的saving总和\n",
    "# grouped_data = df.groupby('人')['saving'].sum().reset_index()\n",
    "\n",
    "# 如果想要排序并limit数量\n",
    "# top20_data = grouped_data.sort_values('saving', ascending=False).head(20)\n",
    "\n",
    "# top20_data = top20_data.iloc[::-1]\n",
    "\n",
    "# plt.figure(figsize=(7, 5)) \n",
    "# plt.barh(top20_data['人'], top20_data['saving'], color='teal')\n",
    "# plt.title('Top 20 saving by individual')\n",
    "# plt.xlabel('saving')\n",
    "# plt.ylabel('individual')\n",
    "# plt.xticks(rotation=90)    # 想要横着还是竖着\n",
    "# plt.tight_layout()\n",
    "# plt.show()"
   ]
  }
 ],
 "metadata": {
  "kernelspec": {
   "display_name": "Python 3",
   "language": "python",
   "name": "python3"
  },
  "language_info": {
   "name": "python",
   "version": "3.11.5"
  }
 },
 "nbformat": 4,
 "nbformat_minor": 2
}
